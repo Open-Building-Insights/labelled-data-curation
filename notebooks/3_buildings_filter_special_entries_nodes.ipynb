{
 "cells": [
  {
   "cell_type": "markdown",
   "metadata": {},
   "source": [
    "## 3_buildings_filter_special_entries_nodes\n",
    "### Obtain node information from OSM using overpass. OSM nodes are translated to building definitions using the overpass turbo engine, where buildings are associated with nodes if they contain the ndoes or are near to their polygon. Only OSM building footprints are considered (VIDA is not) as the OSM nodes are meant to be read together with the OSM building informaiton, so those data are inherently connected\n",
    "### See the cell defining the nodes considered, change it the list if needed"
   ]
  },
  {
   "cell_type": "markdown",
   "metadata": {},
   "source": [
    "### Initial configuration\n",
    "#### To start working with this particular notebook, you need to provide necessary credential and settings\n",
    "#### Below is an template of configuration, which is necessary prepare aside of this notebook and copy & paste all content in triple quotes to the next cell's input field\n",
    "    \"\"\"\n",
    "    {\n",
    "    \"COS_ENDPOINT_URL\": \"s3.private.eu-de.cloud-object-storage.appdomain.cloud\",\n",
    "    \"COS_AUTH_ENDPOINT_URL\": \"https://iam.cloud.ibm.com/oidc/token\",\n",
    "    \"COS_APIKEY\": \"xxx\",\n",
    "    \"DATA_CURATION_BUCKET\": \"xxx\"\n",
    "    }\n",
    "    \"\"\"\n"
   ]
  },
  {
   "cell_type": "code",
   "execution_count": null,
   "metadata": {},
   "outputs": [],
   "source": [
    "# Read notebook configuration\n",
    "import getpass\n",
    "import json\n",
    "\n",
    "config_str = getpass.getpass('Enter your prepared config: ')\n",
    "config = json.loads(config_str)"
   ]
  },
  {
   "cell_type": "code",
   "execution_count": null,
   "metadata": {},
   "outputs": [],
   "source": [
    "# Import necessary libraries\n",
    "import overpy\n",
    "import json\n",
    "import geopandas as gpd\n",
    "import pandas as pd\n",
    "from pyproj import Geod\n",
    "import shapely\n",
    "import jaydebeapi as jdbc\n",
    "import jpype\n",
    "import os\n",
    "import plotly.express as px\n",
    "from tqdm import tqdm\n",
    "from collections import Counter\n",
    "from shapely import affinity\n",
    "from botocore.client import Config\n",
    "import ibm_boto3\n",
    "import io\n",
    "\n",
    "import warnings\n",
    "warnings.simplefilter(action='ignore', category=FutureWarning)\n",
    "\n",
    "geod = Geod(ellps=\"WGS84\")\n",
    "overpy_api = overpy.Overpass()"
   ]
  },
  {
   "cell_type": "code",
   "execution_count": null,
   "metadata": {},
   "outputs": [],
   "source": [
    "osm_vida_overpass_parquet = \"OSM_ML+VIDA_overpass_L1.parquet\"\n",
    "osm_vida_nodes_appended = \"OSM_VIDA_amenity_appendix_overpass.parquet\"\n",
    "curation_bucket = config[\"DATA_CURATION_BUCKET\"]"
   ]
  },
  {
   "cell_type": "code",
   "execution_count": null,
   "metadata": {},
   "outputs": [],
   "source": [
    "# init S3 client in order to upload data to the curation bucket\n",
    "cos_client = ibm_boto3.client(service_name='s3',\n",
    "                              ibm_api_key_id=config[\"COS_APIKEY\"],\n",
    "                              ibm_auth_endpoint=config[\"COS_AUTH_ENDPOINT_URL\"],\n",
    "                              config=Config(signature_version='oauth'),\n",
    "                              endpoint_url=config[\"COS_ENDPOINT_URL\"])\n",
    "\n",
    "# Fetch the OSM derived training data\n",
    "if type(curation_bucket) == str:\n",
    "    streaming_body = cos_client.get_object(Bucket=curation_bucket, Key=osm_vida_overpass_parquet)['Body']\n",
    "    print(\"Downloading to local storage :  \" + osm_vida_overpass_parquet)\n",
    "    with io.FileIO(osm_vida_overpass_parquet, 'w') as file:\n",
    "        for i in io.BytesIO(streaming_body.read()):\n",
    "            file.write(i)"
   ]
  },
  {
   "cell_type": "code",
   "execution_count": null,
   "metadata": {},
   "outputs": [],
   "source": [
    "def generate_grid(\n",
    "                    country_bbox: list,\n",
    "                    tile_bbox: list,\n",
    "                    overlap=0.000\n",
    "                ):\n",
    "    \n",
    "    row_col_dim = [\n",
    "      abs(tile_bbox[0][0] - tile_bbox[0][1]),\n",
    "      abs(tile_bbox[1][0] - tile_bbox[1][1]),\n",
    "    ]\n",
    "    \n",
    "    rows_cols = [\n",
    "      int(abs(country_bbox[0][0] - country_bbox[0][1]) // row_col_dim[0]) if abs(country_bbox[0][0] - country_bbox[0][1]) % row_col_dim[0] == 0 else int(abs(country_bbox[0][0] - country_bbox[0][1]) // row_col_dim[0]) + 1,\n",
    "      int(abs(country_bbox[1][0] - country_bbox[1][1]) // row_col_dim[1]) if abs(country_bbox[1][0] - country_bbox[1][1]) % row_col_dim[1] == 0 else int(abs(country_bbox[1][0] - country_bbox[1][1]) // row_col_dim[1]) + 1\n",
    "    ]\n",
    "    \n",
    "    columns_amount = rows_cols[0]\n",
    "    rows_amount = rows_cols[1]\n",
    "    \n",
    "    tile_width = row_col_dim[0]\n",
    "    tile_height = row_col_dim[1]\n",
    "\n",
    "    tiff_height = abs(country_bbox[1][0] - country_bbox[1][1])\n",
    "    tiff_width = abs(country_bbox[0][0] - country_bbox[0][1])\n",
    "    \n",
    "    images_coords = []\n",
    "    \n",
    "    for col_idx in range(1, columns_amount + 1):\n",
    "    \n",
    "        row_start = country_bbox[0][0] + max(tile_width * (col_idx - 1) - overlap, 0)\n",
    "\n",
    "        if col_idx != columns_amount:\n",
    "\n",
    "            row_limits = [row_start, country_bbox[0][0] + (tile_width * col_idx)]\n",
    "        elif col_idx == columns_amount:\n",
    "            row_limits = [row_start, country_bbox[0][0] + tiff_width]\n",
    "\n",
    "        for row_idx in range(1, rows_amount + 1):\n",
    "\n",
    "            col_start = country_bbox[1][0] + max(tile_height * (row_idx - 1) - overlap, 0)\n",
    "\n",
    "            if row_idx != rows_amount:\n",
    "                col_limits = [col_start, country_bbox[1][0] + (tile_height * row_idx)]\n",
    "            elif row_idx == rows_amount:\n",
    "                col_limits = [col_start, country_bbox[1][0] + tiff_height]\n",
    "\n",
    "            coords = [row_limits, col_limits]\n",
    "            \n",
    "            images_coords.append(coords)\n",
    "\n",
    "    return images_coords"
   ]
  },
  {
   "cell_type": "code",
   "execution_count": null,
   "metadata": {},
   "outputs": [],
   "source": [
    "def fulfill_query(amenity, bbox):\n",
    "    template = f'''\n",
    "        <osm-script bbox=\"{bbox[1][0]},{bbox[0][0]},{bbox[1][1]},{bbox[0][1]}\">\n",
    "            <query into=\"interest\" type=\"node\">\n",
    "                <has-kv k=\"amenity\" modv=\"\" v=\"{amenity}\"/>\n",
    "                <bbox-query s=\"{bbox[1][0]}\" w=\"{bbox[0][0]}\" n=\"{bbox[1][1]}\" e=\"{bbox[0][1]}\"/>\n",
    "            </query>\n",
    "            <query into=\"buildings\" type=\"wr\">\n",
    "                <has-kv k=\"building\" modv=\"\" v=\"\"/>\n",
    "                <bbox-query s=\"{bbox[1][0]}\" w=\"{bbox[0][0]}\" n=\"{bbox[1][1]}\" e=\"{bbox[0][1]}\"/>\n",
    "            </query>\n",
    "            <query into=\"buildings_found\" type=\"wr\">\n",
    "                <item from=\"buildings\" into=\"_\"/>\n",
    "                <around from=\"interest\" radius=\"1\"/>\n",
    "            </query>\n",
    "            <query into=\"buildings_of_interest\" type=\"nwr\">\n",
    "                <has-kv k=\"amenity\" modv=\"\" v=\"{amenity}\"/>\n",
    "                <has-kv k=\"building\" modv=\"\" v=\"yes\"/>\n",
    "                <bbox-query s=\"{bbox[1][0]}\" w=\"{bbox[0][0]}\" n=\"{bbox[1][1]}\" e=\"{bbox[0][1]}\"/>\n",
    "            </query>\n",
    "            <coord-query from=\"interest\" into=\"enclosing\" lat=\"\" lon=\"\"/>\n",
    "            <query into=\"buildings_mark_inside\" type=\"wr\">\n",
    "                <has-kv k=\"building\" modv=\"\" v=\"\"/>\n",
    "                <pivot from=\"enclosing\"/>\n",
    "            </query>\n",
    "            <union into=\"_\">\n",
    "                <item from=\"buildings_found\" into=\"_\"/>\n",
    "                <item from=\"buildings_of_interest\" into=\"_\"/>\n",
    "                <item from=\"buildings_mark_inside\" into=\"_\"/>\n",
    "            </union>\n",
    "            <print e=\"\" from=\"_\" geometry=\"full\" ids=\"yes\" limit=\"\" mode=\"body\" n=\"\" order=\"id\" s=\"\" w=\"\"/>\n",
    "            </osm-script>\n",
    "        '''\n",
    "        \n",
    "    return template"
   ]
  },
  {
   "cell_type": "code",
   "execution_count": null,
   "metadata": {},
   "outputs": [],
   "source": [
    "country_bbox = [\n",
    "    [33.42698016835459, 42.03350416687013],\n",
    "    [-4.761986968283054, 5.23619579992528]\n",
    "]\n",
    "\n",
    "tile_bbox = [\n",
    "    [0, 2],\n",
    "    [0, 2]\n",
    "]\n",
    "\n",
    "all_country_tiles = generate_grid(country_bbox, tile_bbox, overlap=0.0)  \n"
   ]
  },
  {
   "cell_type": "code",
   "execution_count": null,
   "metadata": {},
   "outputs": [],
   "source": [
    "amenities = ['cinema', 'library', 'bank', 'theatre', 'fuel', 'place_of_worship', 'school', 'college', 'hospital', 'police']"
   ]
  },
  {
   "cell_type": "code",
   "execution_count": null,
   "metadata": {},
   "outputs": [],
   "source": [
    "dfs = []\n",
    "\n",
    "for amenity in amenities:\n",
    "  \n",
    "  # print('processing amenity: ', amenity)\n",
    "  for bbox in tqdm(all_country_tiles, total=len(all_country_tiles), desc=f'Fetching amenity: {amenity}'):\n",
    "\n",
    "      try:\n",
    "        xml_query = fulfill_query(amenity, bbox)\n",
    "        result = overpy_api.query(xml_query)\n",
    "        \n",
    "        columns = [\n",
    "          'query_key',\n",
    "          'osm_type',\n",
    "          'geometry'\n",
    "        ]\n",
    "\n",
    "        data = []\n",
    "        for way in result.ways:\n",
    "\n",
    "            polygon = shapely.geometry.Polygon([[float(point.lon), float(point.lat)] for point in way.get_nodes(resolve_missing=True)])\n",
    "            \n",
    "            data.append(\n",
    "              [\n",
    "                'amenity',\n",
    "                amenity,\n",
    "                polygon\n",
    "              ])\n",
    "\n",
    "        df = gpd.GeoDataFrame(data, columns=columns)\n",
    "\n",
    "        df['area_in_meters'] = df[\"geometry\"].apply(lambda g: abs(geod.geometry_area_perimeter(g)[0]))\n",
    "\n",
    "        df['longitude'] = df['geometry'].apply(lambda g: g.centroid.xy[0][0])\n",
    "        df['latitude'] = df['geometry'].apply(lambda g: g.centroid.xy[1][0])\n",
    "        \n",
    "        dfs.append(df)\n",
    "        \n",
    "      except Exception as e:\n",
    "        print(e)"
   ]
  },
  {
   "cell_type": "code",
   "execution_count": null,
   "metadata": {},
   "outputs": [],
   "source": [
    "main_df = pd.concat(dfs)\n",
    "main_df.index = [i for i in range(len(main_df))]\n",
    "main_df\n",
    "\n",
    "main_df.to_parquet('Country_selected_amenities_from_bbox.parquet')"
   ]
  },
  {
   "cell_type": "code",
   "execution_count": null,
   "metadata": {},
   "outputs": [],
   "source": [
    "main_df = gpd.read_parquet('Country_selected_amenities_from_bbox.parquet')\n",
    "main_df"
   ]
  },
  {
   "cell_type": "code",
   "execution_count": null,
   "metadata": {},
   "outputs": [],
   "source": [
    "ke_bound = gpd.read_file('Kenya_boundaries_polygon.geojson').geometry.iloc[0]"
   ]
  },
  {
   "cell_type": "code",
   "execution_count": null,
   "metadata": {},
   "outputs": [],
   "source": [
    "\n",
    "main_df['buildings_in_polygon'] = [ke_bound.contains(shapely.Point(row.longitude, row.latitude)) for row in main_df.itertuples()]\n",
    "kenya_buildings = main_df[main_df.buildings_in_polygon == True]\n",
    "kenya_buildings = kenya_buildings.drop(['buildings_in_polygon'], axis=1)\n",
    "print('Total amount of buildings in Kenya', len(kenya_buildings))\n",
    "\n",
    "kenya_buildings.to_parquet('Kenya_selected_amenities_in_bounds.parquet')"
   ]
  },
  {
   "cell_type": "code",
   "execution_count": null,
   "metadata": {},
   "outputs": [],
   "source": [
    "kenya_buildings['use_for_training'] = ['Yes' for _ in range(len(kenya_buildings))]\n",
    "kenya_buildings['L1_class'] = ['non_res' for _ in range(len(kenya_buildings))]\n",
    "kenya_buildings['trusted_source'] = ['OSM_amenity' for _ in range(len(kenya_buildings))]"
   ]
  },
  {
   "cell_type": "code",
   "execution_count": null,
   "metadata": {},
   "outputs": [],
   "source": [
    "osm_vida_df = gpd.read_parquet(osm_vida_overpass_parquet)"
   ]
  },
  {
   "cell_type": "code",
   "execution_count": null,
   "metadata": {},
   "outputs": [],
   "source": [
    "result_df = pd.concat([osm_vida_df, kenya_buildings])\n",
    "result_df.to_parquet(osm_vida_nodes_appended)\n",
    "\n",
    "# optionaly upload file to the bucket\n",
    "if type(curation_bucket) == str:\n",
    "        \n",
    "    try:\n",
    "        cos_client.upload_file(\n",
    "            Filename=osm_vida_nodes_appended,\n",
    "            Bucket=curation_bucket,\n",
    "            Key=osm_vida_nodes_appended,\n",
    "            ExtraArgs={'ContentDisposition': 'attachment'}\n",
    "        )\n",
    "           \n",
    "        print(f'File {osm_vida_nodes_appended} successfully uploaded to the COS {curation_bucket} bucket')\n",
    "    except Exception as e:\n",
    "        print(f\"\\033[91mFailed upload file to the bucket {curation_bucket}. Error: {e}\")"
   ]
  }
 ],
 "metadata": {
  "kernelspec": {
   "display_name": "Python 3",
   "language": "python",
   "name": "python3"
  },
  "language_info": {
   "codemirror_mode": {
    "name": "ipython",
    "version": 3
   },
   "file_extension": ".py",
   "mimetype": "text/x-python",
   "name": "python",
   "nbconvert_exporter": "python",
   "pygments_lexer": "ipython3",
   "version": "3.11.9"
  }
 },
 "nbformat": 4,
 "nbformat_minor": 2
}
