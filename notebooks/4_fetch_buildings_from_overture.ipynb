{
 "cells": [
  {
   "cell_type": "markdown",
   "metadata": {},
   "source": [
    "## 4_fetch_buildings_from_overture\n",
    "### Downloads labelled buildings for a given country from overturemaps\n",
    "### Unfortunately, the source is a large data set in s3 bucket, which needs to be filtered in advance of loading it, else it would not fit into memory, duckdb is used to do this filtering. Please make sure duckdb is installed on the computer where the notebook is started\n",
    "### Please specify the longitude - latitude values in the SELECT statement below"
   ]
  },
  {
   "cell_type": "markdown",
   "metadata": {},
   "source": [
    "### Initial configuration\n",
    "#### To start working with this particular notebook, you need to provide necessary credential and settings\n",
    "#### Below is an template of configuration, which is necessary prepare aside of this notebook and copy & paste all content in triple quotes to the next cell's input field\n",
    "    \"\"\"\n",
    "    {\n",
    "    \"COS_ENDPOINT_URL\": \"s3.private.eu-de.cloud-object-storage.appdomain.cloud\",\n",
    "    \"COS_AUTH_ENDPOINT_URL\": \"https://iam.cloud.ibm.com/oidc/token\",\n",
    "    \"COS_APIKEY\": \"xxx\",\n",
    "    \"DATA_CURATION_BUCKET\": \"xxx\"\n",
    "    }\n",
    "    \"\"\"\n"
   ]
  },
  {
   "cell_type": "code",
   "execution_count": null,
   "metadata": {},
   "outputs": [],
   "source": [
    "# Read notebook configuration\n",
    "import getpass\n",
    "import json\n",
    "\n",
    "config_str = getpass.getpass('Enter your prepared config: ')\n",
    "config = json.loads(config_str)"
   ]
  },
  {
   "cell_type": "code",
   "execution_count": 1,
   "metadata": {},
   "outputs": [],
   "source": [
    "# Import necessary libraries\n",
    "import geopandas as gpd\n",
    "import pandas as pd\n",
    "import shapely\n",
    "from collections import Counter\n",
    "from botocore.client import Config\n",
    "import ibm_boto3"
   ]
  },
  {
   "cell_type": "code",
   "execution_count": null,
   "metadata": {},
   "outputs": [],
   "source": [
    "# init S3 client in order to upload data to the curation bucket\n",
    "cos_client = ibm_boto3.client(service_name='s3',\n",
    "                              ibm_api_key_id=config[\"COS_APIKEY\"],\n",
    "                              ibm_auth_endpoint=config[\"COS_AUTH_ENDPOINT_URL\"],\n",
    "                              config=Config(signature_version='oauth'),\n",
    "                              endpoint_url=config[\"COS_ENDPOINT_URL\"])"
   ]
  },
  {
   "cell_type": "code",
   "execution_count": null,
   "metadata": {},
   "outputs": [],
   "source": [
    "filtered_overture = \"overture_per_country.parquet\"\n",
    "unfiltered_overture_parquet = \"country_overture_parquet.parquet\"\n",
    "curation_bucket = config[\"DATA_CURATION_BUCKET\"]"
   ]
  },
  {
   "cell_type": "code",
   "execution_count": 2,
   "metadata": {},
   "outputs": [
    {
     "data": {
      "text/plain": [
       "<duckdb.duckdb.DuckDBPyConnection at 0x16156a230>"
      ]
     },
     "execution_count": 2,
     "metadata": {},
     "output_type": "execute_result"
    }
   ],
   "source": [
    "import duckdb\n",
    "db = duckdb.connect()\n",
    "db.execute(\"INSTALL spatial\")\n",
    "db.execute(\"INSTALL httpfs\")\n",
    "db.execute(\"\"\"\n",
    "LOAD spatial;\n",
    "LOAD httpfs;\n",
    "SET s3_region='us-west-2';\n",
    "\"\"\")"
   ]
  },
  {
   "cell_type": "code",
   "execution_count": 4,
   "metadata": {},
   "outputs": [
    {
     "data": {
      "application/vnd.jupyter.widget-view+json": {
       "model_id": "ca36dffa04514dc389ea28d3a394aa9e",
       "version_major": 2,
       "version_minor": 0
      },
      "text/plain": [
       "FloatProgress(value=0.0, layout=Layout(width='auto'), style=ProgressStyle(bar_color='black'))"
      ]
     },
     "metadata": {},
     "output_type": "display_data"
    }
   ],
   "source": [
    "# Obtains buildings from overturemaps using duckdb from a given bounding box\n",
    "# Please set the correct bounding box coordinates!\n",
    "data = db.execute(\"\"\"\n",
    "select\n",
    "  *\n",
    "from\n",
    "  read_parquet('s3://overturemaps-us-west-2/release/2024-03-12-alpha.0/theme=buildings/type=building/*', filename=true, hive_partitioning=1)\n",
    "where\n",
    "  bbox.minx > 33.513685289475745\n",
    "  and bbox.maxx < 42.13960990394747\n",
    "  and bbox.miny > -5.002337968311068\n",
    "  and bbox.maxy < 4.890687834041984\n",
    "  and class != ''\n",
    "\"\"\").fetchall()"
   ]
  },
  {
   "cell_type": "code",
   "execution_count": 5,
   "metadata": {},
   "outputs": [],
   "source": [
    "\n",
    "columns = [\n",
    "   'id',\n",
    " 'geometry',\n",
    " 'bbox',\n",
    " 'version',\n",
    " 'update_time',\n",
    " 'sources',\n",
    " 'names',\n",
    " 'class',\n",
    " 'level',\n",
    " 'has_parts',\n",
    " 'height',\n",
    " 'num_floors',\n",
    " 'facade_color',\n",
    " 'facade_material',\n",
    " 'roof_material',\n",
    " 'roof_shape',\n",
    " 'roof_direction',\n",
    " 'roof_orientation',\n",
    " 'roof_color',\n",
    " 'eave_height',\n",
    " 'feature1',\n",
    " 'feature2',\n",
    " 'feature3'\n",
    "]"
   ]
  },
  {
   "cell_type": "code",
   "execution_count": 11,
   "metadata": {},
   "outputs": [
    {
     "data": {
      "text/html": [
       "<div>\n",
       "<style scoped>\n",
       "    .dataframe tbody tr th:only-of-type {\n",
       "        vertical-align: middle;\n",
       "    }\n",
       "\n",
       "    .dataframe tbody tr th {\n",
       "        vertical-align: top;\n",
       "    }\n",
       "\n",
       "    .dataframe thead th {\n",
       "        text-align: right;\n",
       "    }\n",
       "</style>\n",
       "<table border=\"1\" class=\"dataframe\">\n",
       "  <thead>\n",
       "    <tr style=\"text-align: right;\">\n",
       "      <th></th>\n",
       "      <th>id</th>\n",
       "      <th>geometry</th>\n",
       "      <th>bbox</th>\n",
       "      <th>version</th>\n",
       "      <th>update_time</th>\n",
       "      <th>sources</th>\n",
       "      <th>names</th>\n",
       "      <th>class</th>\n",
       "      <th>level</th>\n",
       "      <th>has_parts</th>\n",
       "      <th>...</th>\n",
       "      <th>facade_material</th>\n",
       "      <th>roof_material</th>\n",
       "      <th>roof_shape</th>\n",
       "      <th>roof_direction</th>\n",
       "      <th>roof_orientation</th>\n",
       "      <th>roof_color</th>\n",
       "      <th>eave_height</th>\n",
       "      <th>feature1</th>\n",
       "      <th>feature2</th>\n",
       "      <th>feature3</th>\n",
       "    </tr>\n",
       "  </thead>\n",
       "  <tbody>\n",
       "    <tr>\n",
       "      <th>0</th>\n",
       "      <td>08b969c961492fff020010ece91596f6</td>\n",
       "      <td>POLYGON ((33.55112 -4.92835, 33.55138 -4.92844...</td>\n",
       "      <td>{'minx': 33.5511151, 'maxx': 33.5514077, 'miny...</td>\n",
       "      <td>0</td>\n",
       "      <td>2023-05-02T12:09:18.000Z</td>\n",
       "      <td>[{'property': '', 'dataset': 'OpenStreetMap', ...</td>\n",
       "      <td>None</td>\n",
       "      <td>education</td>\n",
       "      <td>NaN</td>\n",
       "      <td>False</td>\n",
       "      <td>...</td>\n",
       "      <td>None</td>\n",
       "      <td>None</td>\n",
       "      <td>None</td>\n",
       "      <td>None</td>\n",
       "      <td>None</td>\n",
       "      <td>None</td>\n",
       "      <td>None</td>\n",
       "      <td>s3://overturemaps-us-west-2/release/2024-03-12...</td>\n",
       "      <td>buildings</td>\n",
       "      <td>building</td>\n",
       "    </tr>\n",
       "  </tbody>\n",
       "</table>\n",
       "<p>1 rows × 23 columns</p>\n",
       "</div>"
      ],
      "text/plain": [
       "                                 id  \\\n",
       "0  08b969c961492fff020010ece91596f6   \n",
       "\n",
       "                                            geometry  \\\n",
       "0  POLYGON ((33.55112 -4.92835, 33.55138 -4.92844...   \n",
       "\n",
       "                                                bbox  version  \\\n",
       "0  {'minx': 33.5511151, 'maxx': 33.5514077, 'miny...        0   \n",
       "\n",
       "                update_time  \\\n",
       "0  2023-05-02T12:09:18.000Z   \n",
       "\n",
       "                                             sources names      class  level  \\\n",
       "0  [{'property': '', 'dataset': 'OpenStreetMap', ...  None  education    NaN   \n",
       "\n",
       "   has_parts  ...  facade_material  roof_material roof_shape roof_direction  \\\n",
       "0      False  ...             None           None       None           None   \n",
       "\n",
       "  roof_orientation roof_color eave_height  \\\n",
       "0             None       None        None   \n",
       "\n",
       "                                            feature1   feature2  feature3  \n",
       "0  s3://overturemaps-us-west-2/release/2024-03-12...  buildings  building  \n",
       "\n",
       "[1 rows x 23 columns]"
      ]
     },
     "execution_count": 11,
     "metadata": {},
     "output_type": "execute_result"
    }
   ],
   "source": [
    "len(data)\n",
    "\n",
    "df = pd.DataFrame(data, columns=columns)\n",
    "df = gpd.GeoDataFrame(df, geometry=shapely.from_wkb(df.geometry))\n",
    "df['sources'] = df['sources'].apply(lambda b: str(b))\n",
    "df.head(1)"
   ]
  },
  {
   "cell_type": "code",
   "execution_count": 16,
   "metadata": {},
   "outputs": [
    {
     "name": "stderr",
     "output_type": "stream",
     "text": [
      "/usr/local/lib/python3.11/site-packages/geopandas/geoseries.py:645: FutureWarning: the convert_dtype parameter is deprecated and will be removed in a future version.  Do ``ser.astype(object).apply()`` instead if you want ``convert_dtype=False``.\n",
      "  result = super().apply(func, convert_dtype=convert_dtype, args=args, **kwargs)\n",
      "/usr/local/lib/python3.11/site-packages/geopandas/geoseries.py:645: FutureWarning: the convert_dtype parameter is deprecated and will be removed in a future version.  Do ``ser.astype(object).apply()`` instead if you want ``convert_dtype=False``.\n",
      "  result = super().apply(func, convert_dtype=convert_dtype, args=args, **kwargs)\n"
     ]
    }
   ],
   "source": [
    "df['longitude'] = df['geometry'].apply(lambda g: g.centroid.xy[0][0])\n",
    "df['latitude'] = df['geometry'].apply(lambda g: g.centroid.xy[1][0])\n",
    "df['id'] = df['longitude'].astype(str) + ':' + df['latitude'].astype(str)\n",
    "df[['id', 'longitude', 'latitude', 'geometry', 'class', 'names', 'feature2', 'feature3']].to_parquet(filtered_overture)"
   ]
  },
  {
   "cell_type": "code",
   "execution_count": 8,
   "metadata": {},
   "outputs": [],
   "source": [
    "df.to_parquet(unfiltered_overture_parquet)\n",
    "\n",
    "# optionaly upload file to the bucket\n",
    "if type(curation_bucket) == str:\n",
    "        \n",
    "    try:\n",
    "        cos_client.upload_file(\n",
    "            Filename=filtered_overture,\n",
    "            Bucket=curation_bucket,\n",
    "            Key=filtered_overture,\n",
    "            ExtraArgs={'ContentDisposition': 'attachment'}\n",
    "        )\n",
    "           \n",
    "        print(f'File {filtered_overture} successfully uploaded to the COS {curation_bucket} bucket')\n",
    "    except Exception as e:\n",
    "        print(f\"\\033[91mFailed upload file to the bucket {curation_bucket}. Error: {e}\")\n",
    "\n",
    "    try:\n",
    "        cos_client.upload_file(\n",
    "            Filename=unfiltered_overture_parquet,\n",
    "            Bucket=curation_bucket,\n",
    "            Key=unfiltered_overture_parquet,\n",
    "            ExtraArgs={'ContentDisposition': 'attachment'}\n",
    "        )\n",
    "           \n",
    "        print(f'File {unfiltered_overture_parquet} successfully uploaded to the COS {curation_bucket} bucket')\n",
    "    except Exception as e:\n",
    "        print(f\"\\033[91mFailed upload file to the bucket {curation_bucket}. Error: {e}\")"
   ]
  },
  {
   "cell_type": "code",
   "execution_count": 9,
   "metadata": {},
   "outputs": [
    {
     "data": {
      "text/plain": [
       "Counter({'residential': 142562,\n",
       "         'education': 23251,\n",
       "         'agricultural': 3714,\n",
       "         'commercial': 3336,\n",
       "         'industrial': 1962,\n",
       "         'outbuilding': 707,\n",
       "         'religious': 466,\n",
       "         'medical': 442,\n",
       "         'service': 401,\n",
       "         'civic': 163,\n",
       "         'transportation': 66,\n",
       "         'entertainment': 65})"
      ]
     },
     "execution_count": 9,
     "metadata": {},
     "output_type": "execute_result"
    }
   ],
   "source": [
    "Counter(df['class'])"
   ]
  }
 ],
 "metadata": {
  "kernelspec": {
   "display_name": "Python 3",
   "language": "python",
   "name": "python3"
  },
  "language_info": {
   "codemirror_mode": {
    "name": "ipython",
    "version": 3
   },
   "file_extension": ".py",
   "mimetype": "text/x-python",
   "name": "python",
   "nbconvert_exporter": "python",
   "pygments_lexer": "ipython3",
   "version": "3.12.3"
  }
 },
 "nbformat": 4,
 "nbformat_minor": 2
}
